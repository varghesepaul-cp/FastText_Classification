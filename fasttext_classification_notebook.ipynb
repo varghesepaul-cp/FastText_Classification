{
 "cells": [
  {
   "cell_type": "markdown",
   "metadata": {},
   "source": [
    "FastText Library is used maily for text classification \n",
    "* It can be used for binary-label or multi-label classification problems\n",
    "* It is easily supported on Ubuntu OS because of g++ dependency . Little bit of workaround needed incase of Windows or Mac \n",
    "* Developed and maintained by Facebook\n",
    "\n",
    "Problem Statement \n",
    "  - Restaurant Review Classification . \n",
    "  - 1- Good || 0 - Bad\n",
    "  - Will be using Fasttext Supervised Learning to create and Test the Model \n",
    "\n",
    "Installation\n",
    "  - pip install fasttext "
   ]
  },
  {
   "cell_type": "code",
   "execution_count": 28,
   "metadata": {},
   "outputs": [],
   "source": [
    "import fasttext"
   ]
  },
  {
   "cell_type": "markdown",
   "metadata": {},
   "source": [
    "- #head -n 700 reviews.txt > reviews.train\n",
    "- #tail -n 299 reviews.txt > reviews.test"
   ]
  },
  {
   "cell_type": "code",
   "execution_count": 29,
   "metadata": {},
   "outputs": [
    {
     "name": "stdout",
     "output_type": "stream",
     "text": [
      "__label__0\tCrust is not good.\n",
      "\n",
      "__label__1\tStopped by during the late May bank holiday off Rick Steve recommendation and loved it.\n",
      "\n",
      "__label__0\tNow I am getting angry and I want my damn pho.\n",
      "\n",
      "__label__0\tThe potatoes were like rubber and you could tell they had been made up ahead of time being kept under a warmer.\n",
      "\n",
      "__label__1\tA great touch.\n",
      "\n",
      "__label__0\tWould not go back.\n",
      "\n"
     ]
    }
   ],
   "source": [
    "f = open(\"reviews.train\", \"r\")\n",
    "i = 0\n",
    "for x in f:\n",
    "    if(i<6):\n",
    "        print(f.readline())\n",
    "    i = i+1\n",
    "f.close()"
   ]
  },
  {
   "cell_type": "markdown",
   "metadata": {},
   "source": [
    "- Building Supervised Model with \n",
    "- epochs as 1000\n",
    "- N grams as 2"
   ]
  },
  {
   "cell_type": "code",
   "execution_count": 30,
   "metadata": {},
   "outputs": [],
   "source": [
    "# model1 = fasttext.train_supervised('reviews.train',epoch = 100 , wordNgrams = 2)\n",
    "model1 = fasttext.train_supervised('reviews.train',epoch = 100 )\n",
    "model1.save_model('model_restaurantReviews_1.bin')\n",
    "\n",
    "#To load the existing model\n",
    "#model1 = fasttext.load_model(\"model_restaurantReviews_1.bin\")"
   ]
  },
  {
   "cell_type": "code",
   "execution_count": 31,
   "metadata": {},
   "outputs": [],
   "source": [
    "#print(model1.words)\n",
    "#print(model1.labels)"
   ]
  },
  {
   "cell_type": "code",
   "execution_count": 32,
   "metadata": {},
   "outputs": [
    {
     "data": {
      "text/plain": [
       "(('__label__0',), array([0.62368011]))"
      ]
     },
     "execution_count": 32,
     "metadata": {},
     "output_type": "execute_result"
    }
   ],
   "source": [
    "model1.predict(\"i like food\")\n"
   ]
  },
  {
   "cell_type": "code",
   "execution_count": 33,
   "metadata": {},
   "outputs": [
    {
     "data": {
      "text/plain": [
       "(('__label__0',), array([0.99994707]))"
      ]
     },
     "execution_count": 33,
     "metadata": {},
     "output_type": "execute_result"
    }
   ],
   "source": [
    "model1.predict(\"i do not like the food\")"
   ]
  },
  {
   "cell_type": "code",
   "execution_count": 34,
   "metadata": {},
   "outputs": [
    {
     "name": "stdout",
     "output_type": "stream",
     "text": [
      "N\t299\n",
      "Precission @1\t0.652\n",
      "Recall @1\t0.652\n"
     ]
    }
   ],
   "source": [
    "#To Calculate Precision and Recall\n",
    "def print_results(N, p, r):\n",
    "    print(\"N\\t\" + str(N))\n",
    "    print(\"Precission @{}\\t{:.3f}\".format(1, p))\n",
    "    print(\"Recall @{}\\t{:.3f}\".format(1, r))\n",
    "\n",
    "N,p ,r = model1.test('reviews.test')\n",
    "print_results(N,p,r)"
   ]
  },
  {
   "cell_type": "markdown",
   "metadata": {},
   "source": [
    "- Compressing Model Using Quantization \n"
   ]
  },
  {
   "cell_type": "code",
   "execution_count": 35,
   "metadata": {},
   "outputs": [],
   "source": [
    "# with the previously trained `model` object, call :\n",
    "model1.quantize(input='data.train.txt', retrain=True)\n",
    "\n",
    "# then display results and save the new model :\n",
    "print_results(*model1.test('reviews.test'))\n",
    "model1.save_model(\"model1_filename.ftz\")"
   ]
  }
 ],
 "metadata": {
  "interpreter": {
   "hash": "31f2aee4e71d21fbe5cf8b01ff0e069b9275f58929596ceb00d14d90e3e16cd6"
  },
  "kernelspec": {
   "display_name": "Python 3.6.9 64-bit",
   "language": "python",
   "name": "python3"
  },
  "language_info": {
   "codemirror_mode": {
    "name": "ipython",
    "version": 3
   },
   "file_extension": ".py",
   "mimetype": "text/x-python",
   "name": "python",
   "nbconvert_exporter": "python",
   "pygments_lexer": "ipython3",
   "version": "3.6.9"
  },
  "orig_nbformat": 4
 },
 "nbformat": 4,
 "nbformat_minor": 2
}
